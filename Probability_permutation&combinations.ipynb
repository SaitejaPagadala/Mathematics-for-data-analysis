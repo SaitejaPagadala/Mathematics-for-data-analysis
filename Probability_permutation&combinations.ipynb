{
 "cells": [
  {
   "cell_type": "code",
   "execution_count": null,
   "id": "f5ae4343",
   "metadata": {},
   "outputs": [],
   "source": []
  },
  {
   "cell_type": "markdown",
   "id": "a624f193",
   "metadata": {},
   "source": [
    "### Probability:\n",
    "<p> Probability is the measure of the likelihood that an event will occur. It is a number between 0 and 1, where 0 indicates that an event is impossible, and 1 indicates that an event is certain to occur. In probability theory, events are usually described using random variables."
   ]
  },
  {
   "cell_type": "code",
   "execution_count": 1,
   "id": "362e677c",
   "metadata": {},
   "outputs": [
    {
     "name": "stdout",
     "output_type": "stream",
     "text": [
      "0.173\n"
     ]
    }
   ],
   "source": [
    "import random\n",
    "\n",
    "# example of probability: rolling a dice\n",
    "num_trials = 1000\n",
    "num_sixes = 0\n",
    "for i in range(num_trials):\n",
    "    roll = random.randint(1, 6)\n",
    "    if roll == 6:\n",
    "        num_sixes += 1\n",
    "\n",
    "prob_six = num_sixes / num_trials\n",
    "print(prob_six)"
   ]
  },
  {
   "cell_type": "markdown",
   "id": "8352e990",
   "metadata": {},
   "source": [
    "### Permutation:\n",
    "A permutation is an arrangement of objects in a specific order. The number of permutations of a set of n objects is given by n!."
   ]
  },
  {
   "cell_type": "code",
   "execution_count": 2,
   "id": "7750f201",
   "metadata": {},
   "outputs": [
    {
     "name": "stdout",
     "output_type": "stream",
     "text": [
      "[(1, 2, 3), (1, 3, 2), (2, 1, 3), (2, 3, 1), (3, 1, 2), (3, 2, 1)]\n"
     ]
    }
   ],
   "source": [
    "import itertools\n",
    "\n",
    "# example of permutation: finding all permutations of a set of objects\n",
    "objects = [1, 2, 3]\n",
    "permutations = list(itertools.permutations(objects))\n",
    "print(permutations)\n"
   ]
  },
  {
   "cell_type": "code",
   "execution_count": 10,
   "id": "2d794d78",
   "metadata": {},
   "outputs": [
    {
     "name": "stdout",
     "output_type": "stream",
     "text": [
      "6\n"
     ]
    }
   ],
   "source": [
    "import math\n",
    "\n",
    "# example of permutation: finding the number of permutations of a set of 3 items\n",
    "n = 3\n",
    "permutations = math.factorial(n)\n",
    "print(permutations)"
   ]
  },
  {
   "cell_type": "markdown",
   "id": "4d38dd3a",
   "metadata": {},
   "source": [
    "### Combination:\n",
    "A combination is a selection of items from a larger set, without regard to the order in which they are selected. The number of combinations of a set of n objects taken k at a time is given by C(n, k) = n! / (k! * (n - k)!)."
   ]
  },
  {
   "cell_type": "code",
   "execution_count": 3,
   "id": "1ab6ca68",
   "metadata": {},
   "outputs": [
    {
     "name": "stdout",
     "output_type": "stream",
     "text": [
      "[(1, 2), (1, 3), (2, 3)]\n"
     ]
    }
   ],
   "source": [
    "import itertools\n",
    "\n",
    "# example of combination: finding all combinations of a set of objects\n",
    "objects = [1, 2, 3]\n",
    "combinations = list(itertools.combinations(objects, 2))\n",
    "print(combinations)"
   ]
  },
  {
   "cell_type": "code",
   "execution_count": 11,
   "id": "c1baadbd",
   "metadata": {},
   "outputs": [
    {
     "name": "stdout",
     "output_type": "stream",
     "text": [
      "3\n"
     ]
    }
   ],
   "source": [
    "import math\n",
    "\n",
    "# example of combination: finding the number of combinations of a set of 3 items taken 2 at a time\n",
    "n = 3\n",
    "k = 2\n",
    "combinations = math.comb(n, k)\n",
    "print(combinations)"
   ]
  },
  {
   "cell_type": "markdown",
   "id": "329a3083",
   "metadata": {},
   "source": [
    "### Conditional Probability:\n",
    "<p> Conditional probability is the probability of an event given that another event has occurred. It can be calculated using the formula P(A|B) = P(A and B) / P(B), where P(A|B) is the probability of event A given that event B has occurred, P(A and B) is the probability of both events A and B occurring together, and P(B) is the probability of event B occurring."
   ]
  },
  {
   "cell_type": "code",
   "execution_count": 4,
   "id": "862f08e3",
   "metadata": {},
   "outputs": [
    {
     "name": "stdout",
     "output_type": "stream",
     "text": [
      "1.0\n"
     ]
    }
   ],
   "source": [
    "# example of conditional probability: finding the probability of getting heads given that the coin is fair\n",
    "p_fair = 0.5\n",
    "p_heads = 0.5\n",
    "p_heads_given_fair = p_heads / p_fair\n",
    "print(p_heads_given_fair)"
   ]
  },
  {
   "cell_type": "markdown",
   "id": "174fd662",
   "metadata": {},
   "source": [
    "### Bayes' Theorem:\n",
    "Bayes' theorem is a formula that describes how the probability of an event changes based on new information. It states that P(A|B) = P(B|A) * P(A) / P(B), where P(A|B) is the probability of event A given that event B has occurred, P(B|A) is the probability of event B given that event A has occurred, P(A) is the prior probability of event A, and P(B) is the prior probability of event B."
   ]
  },
  {
   "cell_type": "code",
   "execution_count": 5,
   "id": "ff9dd9b8",
   "metadata": {},
   "outputs": [
    {
     "name": "stdout",
     "output_type": "stream",
     "text": [
      "0.08333333333333333\n"
     ]
    }
   ],
   "source": [
    "# example of Bayes' theorem: finding the probability that a person has a disease given a positive test result\n",
    "p_disease = 0.01\n",
    "p_positive_given_disease = 0.9\n",
    "p_positive_given_no_disease = 0.1\n",
    "p_disease_given_positive = (p_positive_given_disease * p_disease) / (p_positive_given_disease * p_disease + p_positive_given_no_disease * (1 - p_disease))\n",
    "print(p_disease_given_positive)"
   ]
  },
  {
   "cell_type": "code",
   "execution_count": 12,
   "id": "6b785d22",
   "metadata": {},
   "outputs": [
    {
     "name": "stdout",
     "output_type": "stream",
     "text": [
      "0.7\n"
     ]
    }
   ],
   "source": [
    "def bayes_theorem(prior, likelihood, evidence):\n",
    "    posterior = (prior * likelihood) / evidence\n",
    "    return posterior\n",
    "\n",
    "# example of Bayes' theorem: finding the posterior probability of a hypothesis given new evidence\n",
    "prior = 0.5\n",
    "likelihood = 0.7\n",
    "evidence = 0.5\n",
    "posterior = bayes_theorem(prior, likelihood, evidence)\n",
    "print(posterior)"
   ]
  },
  {
   "cell_type": "markdown",
   "id": "021725fc",
   "metadata": {},
   "source": [
    "### Random Variables:\n",
    "A random variable is a variable whose value is determined by a random process. There are two types of random variables: discrete and continuous. Discrete random variables take on a countable number of values, while continuous random variables take on a continuous range of values."
   ]
  },
  {
   "cell_type": "code",
   "execution_count": 6,
   "id": "3cff7726",
   "metadata": {},
   "outputs": [],
   "source": [
    "import numpy as np\n",
    "\n",
    "# example of random variable: generating a random variable from a normal distribution\n",
    "mu = 0\n",
    "sigma = 1\n",
    "samples = np.random.normal(mu, sigma, 1000)"
   ]
  },
  {
   "cell_type": "markdown",
   "id": "950f007d",
   "metadata": {},
   "source": [
    "### Probability Distribution:\n",
    "A probability distribution is a function that describes the likelihood of different values for a random variable. The most commonly used probability distributions are the normal distribution, the uniform distribution, the binomial distribution, and the Poisson distribution."
   ]
  },
  {
   "cell_type": "code",
   "execution_count": 7,
   "id": "81db323d",
   "metadata": {},
   "outputs": [
    {
     "data": {
      "image/png": "[encoded data removed]",
      "text/plain": [
       "<Figure size 640x480 with 1 Axes>"
      ]
     },
     "metadata": {},
     "output_type": "display_data"
    }
   ],
   "source": [
    "import numpy as np\n",
    "import matplotlib.pyplot as plt\n",
    "\n",
    "# example of probability distribution: generating a histogram of random variables from a normal distribution\n",
    "mu = 0\n",
    "sigma = 1\n",
    "samples = np.random.normal(mu, sigma, 1000)\n",
    "plt.hist(samples, bins=50, density=True)\n",
    "plt.show()"
   ]
  },
  {
   "cell_type": "markdown",
   "id": "549d5d5c",
   "metadata": {},
   "source": [
    "### Probability Density Function (PDF):\n",
    "A probability density function (PDF) is a function that describes the likelihood of a continuous random variable taking on a particular value. The PDF of a random variable is always non-negative and its integral over the entire range of the variable is equal to 1."
   ]
  },
  {
   "cell_type": "code",
   "execution_count": 8,
   "id": "230083ed",
   "metadata": {},
   "outputs": [
    {
     "data": {
      "image/png": "[encoded data removed]",
      "text/plain": [
       "<Figure size 640x480 with 1 Axes>"
      ]
     },
     "metadata": {},
     "output_type": "display_data"
    }
   ],
   "source": [
    "import numpy as np\n",
    "import scipy.stats as stats\n",
    "import matplotlib.pyplot as plt\n",
    "\n",
    "# example of probability density function: plotting the PDF of a normal distribution\n",
    "mu = 0\n",
    "sigma = 1\n",
    "x = np.linspace(-5, 5, 100)\n",
    "y = stats.norm.pdf(x, mu, sigma)\n",
    "plt.plot(x, y)\n",
    "plt.show()"
   ]
  },
  {
   "cell_type": "markdown",
   "id": "eba81779",
   "metadata": {},
   "source": [
    "### Cumulative Distribution Function (CDF):\n",
    "A cumulative distribution function (CDF) is a function that describes the cumulative probability of a random variable taking on values less than or equal to a particular value. The CDF of a random variable is always non-negative and increases monotonically from 0 to 1."
   ]
  },
  {
   "cell_type": "code",
   "execution_count": 9,
   "id": "81692799",
   "metadata": {},
   "outputs": [
    {
     "data": {
      "image/png": "[encoded data removed]",
      "text/plain": [
       "<Figure size 640x480 with 1 Axes>"
      ]
     },
     "metadata": {},
     "output_type": "display_data"
    }
   ],
   "source": [
    "import numpy as np\n",
    "import scipy.stats as stats\n",
    "import matplotlib.pyplot as plt\n",
    "\n",
    "# example of cumulative distribution function: plotting the CDF of a normal distribution\n",
    "mu = 0\n",
    "sigma = 1\n",
    "x = np.linspace(-5, 5, 100)\n",
    "y = stats.norm.cdf(x, mu, sigma)\n",
    "plt.plot(x, y)\n",
    "plt.show()"
   ]
  },
  {
   "cell_type": "markdown",
   "id": "1d3a7027",
   "metadata": {},
   "source": [
    "### Joint Probability:\n",
    "Joint probability is the probability of two events occurring together. It is calculated as the product of the probabilities of each event, given the occurrence of the other event."
   ]
  },
  {
   "cell_type": "code",
   "execution_count": 14,
   "id": "5e40c9d8",
   "metadata": {},
   "outputs": [
    {
     "name": "stdout",
     "output_type": "stream",
     "text": [
      "0.15\n"
     ]
    }
   ],
   "source": [
    "def joint_probability(p1, p2):\n",
    "    return p1 * p2\n",
    "\n",
    "# example of joint probability: finding the probability of events A and B occurring together\n",
    "p1 = 0.3\n",
    "p2 = 0.5\n",
    "probability = joint_probability(p1, p2)\n",
    "print(probability)"
   ]
  },
  {
   "cell_type": "markdown",
   "id": "e39a56d1",
   "metadata": {},
   "source": [
    "### Law of Total Probability:\n",
    "The law of total probability states that the probability of a union of events is equal to the sum of the probabilities of each individual event, where each probability is weighted by the conditional probability of the event given the occurrence of another event."
   ]
  },
  {
   "cell_type": "code",
   "execution_count": 13,
   "id": "86187a53",
   "metadata": {},
   "outputs": [
    {
     "name": "stdout",
     "output_type": "stream",
     "text": [
      "0.29000000000000004\n"
     ]
    }
   ],
   "source": [
    "def law_of_total_probability(probabilities, conditions):\n",
    "    total = 0\n",
    "    for p, c in zip(probabilities, conditions):\n",
    "        total += p * c\n",
    "    return total\n",
    "\n",
    "# example of the law of total probability: finding the probability of a union of events\n",
    "probabilities = [0.2, 0.3, 0.5]\n",
    "conditions = [0.5, 0.3, 0.2]\n",
    "total = law_of_total_probability(probabilities, conditions)\n",
    "print(total)"
   ]
  },
  {
   "cell_type": "code",
   "execution_count": null,
   "id": "e7927138",
   "metadata": {},
   "outputs": [],
   "source": []
  }
 ],
 "metadata": {
  "kernelspec": {
   "display_name": "Python 3 (ipykernel)",
   "language": "python",
   "name": "python3"
  },
  "language_info": {
   "codemirror_mode": {
    "name": "ipython",
    "version": 3
   },
   "file_extension": ".py",
   "mimetype": "text/x-python",
   "name": "python",
   "nbconvert_exporter": "python",
   "pygments_lexer": "ipython3",
   "version": "3.9.13"
  }
 },
 "nbformat": 4,
 "nbformat_minor": 5
}
