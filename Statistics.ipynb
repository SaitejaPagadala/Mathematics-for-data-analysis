{
 "cells": [
  {
   "cell_type": "markdown",
   "id": "abca2d54",
   "metadata": {},
   "source": [
    "# STATISTICS"
   ]
  },
  {
   "cell_type": "markdown",
   "id": "ed2a6cd8",
   "metadata": {},
   "source": [
    "Statistics is a branch of mathematics that deals with collecting, analyzing, and interpreting data. It plays a crucial role in data analysis and helps us to make informed decisions based on the insights obtained from the data."
   ]
  },
  {
   "cell_type": "markdown",
   "id": "f3df2a80",
   "metadata": {},
   "source": [
    "### Descriptive Statistics"
   ]
  },
  {
   "cell_type": "markdown",
   "id": "532bfd92",
   "metadata": {},
   "source": [
    "Here is an overview of some of the key concepts in statistics for data analysis with code and explanation in Python:"
   ]
  },
  {
   "cell_type": "markdown",
   "id": "7672566c",
   "metadata": {},
   "source": [
    "##### Measures of Central Tendency:"
   ]
  },
  {
   "cell_type": "code",
   "execution_count": 1,
   "id": "5c99f6ac",
   "metadata": {},
   "outputs": [
    {
     "name": "stdout",
     "output_type": "stream",
     "text": [
      "Mean: 3.0\n"
     ]
    }
   ],
   "source": [
    "# Mean: The mean is the average of a set of numbers and is \n",
    "#calculated by summing all the values and dividing by the count of values.\n",
    "\n",
    "import numpy as np\n",
    "arr = np.array([1, 2, 3, 4, 5])\n",
    "mean = np.mean(arr)\n",
    "print(\"Mean:\", mean)"
   ]
  },
  {
   "cell_type": "code",
   "execution_count": 2,
   "id": "3fa5e78f",
   "metadata": {},
   "outputs": [
    {
     "name": "stdout",
     "output_type": "stream",
     "text": [
      "Median: 3.0\n"
     ]
    }
   ],
   "source": [
    "# Median: The median is the middle value of a set of numbers. If the number of values is odd, it's the value in the middle. \n",
    "#If the number of values is even, it's the average of the two middle values.\n",
    "\n",
    "import numpy as np\n",
    "arr = np.array([1, 2, 3, 4, 5])\n",
    "median = np.median(arr)\n",
    "print(\"Median:\", median)"
   ]
  },
  {
   "cell_type": "code",
   "execution_count": 3,
   "id": "f72d89de",
   "metadata": {},
   "outputs": [
    {
     "name": "stdout",
     "output_type": "stream",
     "text": [
      "Mode: 4\n"
     ]
    }
   ],
   "source": [
    "#Mode: The mode is the value that appears most frequently in a set of numbers.\n",
    "\n",
    "import statistics\n",
    "arr = [1, 2, 2, 3, 4, 4, 4, 5]\n",
    "mode = statistics.mode(arr)\n",
    "print(\"Mode:\", mode)"
   ]
  },
  {
   "cell_type": "markdown",
   "id": "d5c642ea",
   "metadata": {},
   "source": [
    "#### Measures of Dispersion:"
   ]
  },
  {
   "cell_type": "code",
   "execution_count": 4,
   "id": "a4236e7e",
   "metadata": {},
   "outputs": [
    {
     "name": "stdout",
     "output_type": "stream",
     "text": [
      "Range: 4\n"
     ]
    }
   ],
   "source": [
    "# Range: The range is the difference between the largest and smallest values in a set of numbers.\n",
    "\n",
    "import numpy as np\n",
    "arr = np.array([1, 2, 3, 4, 5])\n",
    "rng = np.ptp(arr)\n",
    "print(\"Range:\", rng)"
   ]
  },
  {
   "cell_type": "code",
   "execution_count": 5,
   "id": "75030d63",
   "metadata": {},
   "outputs": [
    {
     "name": "stdout",
     "output_type": "stream",
     "text": [
      "Variance: 2.0\n"
     ]
    }
   ],
   "source": [
    "# Variance: The variance is a measure of the spread of a set of numbers. \n",
    "#It's the average of the squared differences from the mean.\n",
    "\n",
    "import numpy as np\n",
    "arr = np.array([1, 2, 3, 4, 5])\n",
    "var = np.var(arr)\n",
    "print(\"Variance:\", var)"
   ]
  },
  {
   "cell_type": "code",
   "execution_count": 6,
   "id": "113613fa",
   "metadata": {},
   "outputs": [
    {
     "name": "stdout",
     "output_type": "stream",
     "text": [
      "Standard Deviation: 1.4142135623730951\n"
     ]
    }
   ],
   "source": [
    "#Standard Deviation: The standard deviation is the square root of the variance.\n",
    "\n",
    "import numpy as np\n",
    "arr = np.array([1, 2, 3, 4, 5])\n",
    "std = np.std(arr)\n",
    "print(\"Standard Deviation:\", std)"
   ]
  },
  {
   "cell_type": "markdown",
   "id": "d45c929a",
   "metadata": {},
   "source": [
    "#### Skewness:"
   ]
  },
  {
   "cell_type": "code",
   "execution_count": 7,
   "id": "0849cc03",
   "metadata": {},
   "outputs": [
    {
     "name": "stdout",
     "output_type": "stream",
     "text": [
      "Skewness: 0.0\n"
     ]
    }
   ],
   "source": [
    "# Skewness is a measure of the asymmetry of a distribution. \n",
    "#It tells us the direction (positive or negative) and the degree of skew (how far from normal the distribution is).\n",
    "\n",
    "import scipy.stats\n",
    "arr = [1, 2, 3, 4, 5, 6, 7, 8, 9, 10]\n",
    "skew = scipy.stats.skew(arr)\n",
    "print(\"Skewness:\", skew)"
   ]
  },
  {
   "cell_type": "markdown",
   "id": "cdc9d99b",
   "metadata": {},
   "source": [
    "#### Kurtosis:"
   ]
  },
  {
   "cell_type": "code",
   "execution_count": 9,
   "id": "235f565d",
   "metadata": {},
   "outputs": [
    {
     "name": "stdout",
     "output_type": "stream",
     "text": [
      "Kurt: -1.2242424242424244\n"
     ]
    }
   ],
   "source": [
    "#Kurtosis is a measure of the \"peakedness\" of a distribution. \n",
    "#It tells us how much the values in the distribution are bunched up or spread out around the mean.\n",
    "\n",
    "import scipy.stats\n",
    "arr = [1, 2, 3, 4, 5, 6, 7, 8, 9, 10]\n",
    "kurt = scipy.stats.kurtosis(arr)\n",
    "print(\"Kurt:\", kurt)"
   ]
  },
  {
   "cell_type": "markdown",
   "id": "a9fba6c5",
   "metadata": {},
   "source": [
    "#### Frequency Distributions:"
   ]
  },
  {
   "cell_type": "code",
   "execution_count": 10,
   "id": "949464cc",
   "metadata": {},
   "outputs": [
    {
     "name": "stdout",
     "output_type": "stream",
     "text": [
      "Frequency Distribution: {1: 1, 2: 2, 3: 1, 4: 3, 5: 1}\n"
     ]
    }
   ],
   "source": [
    "#A frequency distribution is a table that shows the number of observations (frequency) for each unique value in a set of data. \n",
    "#In Python, we can use the collections module's Counter class to create a frequency distribution.\n",
    "\n",
    "import collections\n",
    "arr = [1, 2, 2, 3, 4, 4, 4, 5]\n",
    "frequency_distribution = dict(collections.Counter(arr))\n",
    "print(\"Frequency Distribution:\", frequency_distribution)"
   ]
  },
  {
   "cell_type": "markdown",
   "id": "2af19d13",
   "metadata": {},
   "source": [
    "#### Histograms:"
   ]
  },
  {
   "cell_type": "code",
   "execution_count": 11,
   "id": "2701eaa2",
   "metadata": {},
   "outputs": [
    {
     "data": {
      "image/png": "[encoded data removed]",
      "text/plain": [
       "<Figure size 640x480 with 1 Axes>"
      ]
     },
     "metadata": {},
     "output_type": "display_data"
    }
   ],
   "source": [
    "#A histogram is a graph that represents the frequency distribution of a set of data by \n",
    "#dividing the data into bins and showing the frequency of observations in each bin. \n",
    "#In Python, we can use the matplotlib library's hist function to create a histogram.\n",
    "\n",
    "import matplotlib.pyplot as plt\n",
    "arr = [1, 2, 2, 3, 4, 4, 4, 5]\n",
    "plt.hist(arr, bins=5, edgecolor='black')\n",
    "plt.show()"
   ]
  },
  {
   "cell_type": "markdown",
   "id": "26b7dbb3",
   "metadata": {},
   "source": [
    "#### Box Plots:"
   ]
  },
  {
   "cell_type": "code",
   "execution_count": 12,
   "id": "328e78ef",
   "metadata": {},
   "outputs": [
    {
     "data": {
      "image/png": "[encoded data removed]",
      "text/plain": [
       "<Figure size 640x480 with 1 Axes>"
      ]
     },
     "metadata": {},
     "output_type": "display_data"
    }
   ],
   "source": [
    "#A box plot, also known as a box-and-whisker plot, is a graph that shows \n",
    "#the distribution of a set of data by plotting the median, quartiles, and outliers.\n",
    "#In Python, we can use the matplotlib library's boxplot function to create a box plot.\n",
    "\n",
    "import matplotlib.pyplot as plt\n",
    "arr = [1, 2, 2, 3, 4, 4, 4, 5]\n",
    "plt.boxplot(arr)\n",
    "plt.show()"
   ]
  },
  {
   "cell_type": "markdown",
   "id": "1c5269a4",
   "metadata": {},
   "source": [
    "#### Scatter Plots:"
   ]
  },
  {
   "cell_type": "code",
   "execution_count": 13,
   "id": "a9c0fffc",
   "metadata": {},
   "outputs": [
    {
     "data": {
      "image/png": "[encoded data removed]",
      "text/plain": [
       "<Figure size 640x480 with 1 Axes>"
      ]
     },
     "metadata": {},
     "output_type": "display_data"
    }
   ],
   "source": [
    "#A scatter plot is a graph that shows the relationship between two variables by plotting their values as points.\n",
    "#In Python, we can use the matplotlib library's scatter function to create a scatter plot.\n",
    "\n",
    "import matplotlib.pyplot as plt\n",
    "x = [1, 2, 3, 4, 5]\n",
    "y = [2, 4, 5, 4, 5]\n",
    "plt.scatter(x, y)\n",
    "plt.show()"
   ]
  },
  {
   "cell_type": "markdown",
   "id": "ac3c4e40",
   "metadata": {},
   "source": [
    "#### Correlation:"
   ]
  },
  {
   "cell_type": "code",
   "execution_count": 14,
   "id": "e1bbdde9",
   "metadata": {},
   "outputs": [
    {
     "name": "stdout",
     "output_type": "stream",
     "text": [
      "Correlation Coefficient: 0.7745966692414834\n"
     ]
    }
   ],
   "source": [
    "# Correlation is a statistical measure that shows the relationship between two variables. \n",
    "#The correlation coefficient ranges from -1 to 1, where -1 indicates a perfect negative correlation,\n",
    "#0 indicates no correlation, and 1 indicates a perfect positive correlation. \n",
    "#In Python, we can use the numpy library's corrcoef function to calculate the correlation coefficient.\n",
    "\n",
    "import numpy as np\n",
    "x = [1, 2, 3, 4, 5]\n",
    "y = [2, 4, 5, 4, 5]\n",
    "corr_coeff = np.corrcoef(x, y)[0, 1]\n",
    "print(\"Correlation Coefficient:\", corr_coeff)"
   ]
  },
  {
   "cell_type": "code",
   "execution_count": null,
   "id": "31c3eedc",
   "metadata": {},
   "outputs": [],
   "source": []
  },
  {
   "cell_type": "markdown",
   "id": "8aec884f",
   "metadata": {},
   "source": [
    "### Inferential statistics"
   ]
  },
  {
   "cell_type": "markdown",
   "id": "5dbbdb5a",
   "metadata": {},
   "source": [
    "#### Sampling Distribution:<p>\n",
    "The sampling distribution is a probability distribution of a statistic computed from a random sample.\n",
    "In inferential statistics, we use the sampling distribution to make inferences about the population parameters."
   ]
  },
  {
   "cell_type": "markdown",
   "id": "25611395",
   "metadata": {},
   "source": [
    "#### Point Estimation:\n",
    "\n",
    "<p>Point estimation is the process of finding a single value (point estimate) that represents the population parameter. In Python, we can use the mean, median, or mode functions from the statistics library to find point estimates for the mean, median, or mode of a set of data."
   ]
  },
  {
   "cell_type": "code",
   "execution_count": 16,
   "id": "f595f8b8",
   "metadata": {},
   "outputs": [
    {
     "name": "stdout",
     "output_type": "stream",
     "text": [
      "Mean Estimate: 3.125\n",
      "Median Estimate: 3.5\n",
      "Mode Estimate: 4\n"
     ]
    }
   ],
   "source": [
    "import statistics\n",
    "arr = [1, 2, 2, 3, 4, 4, 4, 5]\n",
    "mean_estimate = statistics.mean(arr)\n",
    "median_estimate = statistics.median(arr)\n",
    "mode_estimate = statistics.mode(arr)\n",
    "print(\"Mean Estimate:\", mean_estimate)\n",
    "print(\"Median Estimate:\", median_estimate)\n",
    "print(\"Mode Estimate:\", mode_estimate)"
   ]
  },
  {
   "cell_type": "markdown",
   "id": "3553fa2e",
   "metadata": {},
   "source": [
    "#### Confidence Intervals:\n",
    "\n",
    "<p> A confidence interval is a range of values that is likely to contain the population parameter with a certain level of confidence. In Python, we can use the scipy library's norm class and ppf function to find the confidence intervals for a given level of confidence."
   ]
  },
  {
   "cell_type": "code",
   "execution_count": 18,
   "id": "1ec471f0",
   "metadata": {},
   "outputs": [
    {
     "name": "stdout",
     "output_type": "stream",
     "text": [
      "Confidence Interval: [2.39, 3.86]\n"
     ]
    }
   ],
   "source": [
    "from scipy.stats import norm\n",
    "import numpy as np\n",
    "arr = [1, 2, 2, 3, 4, 4, 4, 5]\n",
    "mean = np.mean(arr)\n",
    "standard_error = np.std(arr) / np.sqrt(len(arr))\n",
    "confidence = 0.95\n",
    "lower_bound = mean - norm.ppf(confidence) * standard_error\n",
    "upper_bound = mean + norm.ppf(confidence) * standard_error\n",
    "print(\"Confidence Interval: [{:.2f}, {:.2f}]\".format(lower_bound, upper_bound))"
   ]
  },
  {
   "cell_type": "markdown",
   "id": "a51ed0c7",
   "metadata": {},
   "source": [
    "#### Hypothesis Testing:\n",
    "\n",
    "<p> Hypothesis testing is a statistical method used to test an assumption (hypothesis) about a population parameter. In Python, we can use the scipy library's ttest_1samp function to test the hypothesis that the population mean is equal to a specified value."
   ]
  },
  {
   "cell_type": "code",
   "execution_count": 19,
   "id": "32bff83c",
   "metadata": {},
   "outputs": [
    {
     "name": "stdout",
     "output_type": "stream",
     "text": [
      "T-Statistic: 0.2606936229533505\n",
      "P-Value: 0.80183148620555\n"
     ]
    }
   ],
   "source": [
    "from scipy.stats import ttest_1samp\n",
    "arr = [1, 2, 2, 3, 4, 4, 4, 5]\n",
    "hypothesis_value = 3\n",
    "t_statistic, p_value = ttest_1samp(arr, hypothesis_value)\n",
    "print(\"T-Statistic:\", t_statistic)\n",
    "print(\"P-Value:\", p_value)"
   ]
  },
  {
   "cell_type": "markdown",
   "id": "cc00aa4f",
   "metadata": {},
   "source": [
    "#### ANOVA:\n",
    "<p>ANOVA (Analysis of Variance) is a statistical method used to test the equality of means among two or more groups. In Python, we can use the scipy library's f_oneway function to perform an ANOVA test."
   ]
  },
  {
   "cell_type": "code",
   "execution_count": 24,
   "id": "15ca0533",
   "metadata": {},
   "outputs": [
    {
     "name": "stdout",
     "output_type": "stream",
     "text": [
      "           sum_sq   df          F    PR(>F)\n",
      "Treatment   600.0  2.0  47.368421  0.000211\n",
      "Residual     38.0  6.0        NaN       NaN\n"
     ]
    }
   ],
   "source": [
    "import pandas as pd\n",
    "import statsmodels.api as sm\n",
    "from statsmodels.formula.api import ols\n",
    "\n",
    "# creating a sample dataframe\n",
    "df = pd.DataFrame({'Treatment':['A','B','C','A','B','C','A','B','C'],\n",
    "                   'Response':[10,20,30,15,25,35,12,22,32]})\n",
    "\n",
    "# running the ANOVA test\n",
    "model = ols('Response ~ Treatment', data=df).fit()\n",
    "aov_table = sm.stats.anova_lm(model, typ=2)\n",
    "\n",
    "# printing the results\n",
    "print(aov_table)"
   ]
  },
  {
   "cell_type": "markdown",
   "id": "14fb571e",
   "metadata": {},
   "source": [
    "#### Regression Analysis:\n",
    "\n",
    "<p>Regression analysis is a statistical method used to model the relationship between a dependent variable and one or more independent variables. In Python, we can use the statsmodels library's OLS class to perform linear regression."
   ]
  },
  {
   "cell_type": "code",
   "execution_count": 21,
   "id": "68ac7401",
   "metadata": {},
   "outputs": [
    {
     "name": "stdout",
     "output_type": "stream",
     "text": [
      "                            OLS Regression Results                            \n",
      "==============================================================================\n",
      "Dep. Variable:                      y   R-squared:                       1.000\n",
      "Model:                            OLS   Adj. R-squared:                  1.000\n",
      "Method:                 Least Squares   F-statistic:                 3.042e+31\n",
      "Date:                Mon, 13 Feb 2023   Prob (F-statistic):           1.31e-47\n",
      "Time:                        13:10:46   Log-Likelihood:                 169.66\n",
      "No. Observations:                   5   AIC:                            -335.3\n",
      "Df Residuals:                       3   BIC:                            -336.1\n",
      "Df Model:                           1                                         \n",
      "Covariance Type:            nonrobust                                         \n",
      "==============================================================================\n",
      "                 coef    std err          t      P>|t|      [0.025      0.975]\n",
      "------------------------------------------------------------------------------\n",
      "const          1.0000   6.01e-16   1.66e+15      0.000       1.000       1.000\n",
      "x1             1.0000   1.81e-16   5.52e+15      0.000       1.000       1.000\n",
      "==============================================================================\n",
      "Omnibus:                          nan   Durbin-Watson:                   0.400\n",
      "Prob(Omnibus):                    nan   Jarque-Bera (JB):                0.770\n",
      "Skew:                          -0.844   Prob(JB):                        0.680\n",
      "Kurtosis:                       2.078   Cond. No.                         8.37\n",
      "==============================================================================\n",
      "\n",
      "Notes:\n",
      "[1] Standard Errors assume that the covariance matrix of the errors is correctly specified.\n"
     ]
    },
    {
     "name": "stderr",
     "output_type": "stream",
     "text": [
      "C:\\Users\\saite\\anaconda3\\lib\\site-packages\\statsmodels\\stats\\stattools.py:74: ValueWarning: omni_normtest is not valid with less than 8 observations; 5 samples were given.\n",
      "  warn(\"omni_normtest is not valid with less than 8 observations; %i \"\n"
     ]
    }
   ],
   "source": [
    "import statsmodels.api as sm\n",
    "x = [1, 2, 3, 4, 5]\n",
    "y = [2, 3, 4, 5, 6]\n",
    "x = sm.add_constant(x)\n",
    "model = sm.OLS(y, x).fit()\n",
    "print(model.summary())"
   ]
  },
  {
   "cell_type": "markdown",
   "id": "8de1fdc0",
   "metadata": {},
   "source": [
    "#### Logistic Regression:\n",
    "\n",
    "<p>Logistic regression is a statistical method used to model the relationship between a binary dependent variable and one or more independent variables. In Python, we can use the statsmodels library's Logit class to perform logistic regression."
   ]
  },
  {
   "cell_type": "code",
   "execution_count": 26,
   "id": "1f9debeb",
   "metadata": {},
   "outputs": [
    {
     "name": "stdout",
     "output_type": "stream",
     "text": [
      "                          Results: Logit\n",
      "==================================================================\n",
      "Model:              Logit            Pseudo R-squared: 1.000      \n",
      "Dependent Variable: y                AIC:              4.0000     \n",
      "Date:               2023-02-13 13:24 BIC:              3.2189     \n",
      "No. Observations:   5                Log-Likelihood:   -6.9041e-10\n",
      "Df Model:           1                LL-Null:          -3.3651    \n",
      "Df Residuals:       3                LLR p-value:      0.0094798  \n",
      "Converged:          1.0000           Scale:            1.0000     \n",
      "No. Iterations:     39.0000                                       \n",
      "------------------------------------------------------------------\n",
      "       Coef.     Std.Err.     z    P>|z|     [0.025       0.975]  \n",
      "------------------------------------------------------------------\n",
      "x1    147.2477 373725.3692  0.0004 0.9997 -732341.0161 732635.5116\n",
      "x2   -104.8570 276680.4564 -0.0004 0.9997 -542388.5869 542178.8728\n",
      "==================================================================\n",
      "\n"
     ]
    }
   ],
   "source": [
    "import numpy as np\n",
    "import statsmodels.api as sm\n",
    "\n",
    "# creating a sample dataset\n",
    "x = np.array([[1, 2], [2, 3], [3, 4], [4, 5], [5, 6]])\n",
    "y = np.array([0, 0, 1, 1, 1])\n",
    "\n",
    "# adding a small amount of random noise to the independent variable\n",
    "x = x + np.random.normal(0, 0.1, x.shape)\n",
    "\n",
    "# fitting the logistic regression model with ridge regularization\n",
    "logit_model = sm.Logit(y, x)\n",
    "result = logit_model.fit_regularized(method='l1', disp=False)\n",
    "\n",
    "# printing the results\n",
    "print(result.summary2())"
   ]
  },
  {
   "cell_type": "markdown",
   "id": "6a71fc3b",
   "metadata": {},
   "source": [
    "#### Chi-Square Test:\n",
    "\n",
    "<p>The chi-square test is a statistical test used to determine if there is a significant association between two categorical variables. In Python, we can use the scipy library's chi2_contingency function to perform a chi-square test."
   ]
  },
  {
   "cell_type": "code",
   "execution_count": 23,
   "id": "471884fe",
   "metadata": {},
   "outputs": [
    {
     "name": "stdout",
     "output_type": "stream",
     "text": [
      "Statistic: 0.128\n",
      "P-Value: 0.7205147871362552\n"
     ]
    }
   ],
   "source": [
    "from scipy.stats import chi2_contingency\n",
    "table = [[10, 20], [20, 30]]\n",
    "statistic, p_value, dof, expected = chi2_contingency(table)\n",
    "print(\"Statistic:\", statistic)\n",
    "print(\"P-Value:\", p_value)"
   ]
  },
  {
   "cell_type": "code",
   "execution_count": null,
   "id": "55c0a6e5",
   "metadata": {},
   "outputs": [],
   "source": []
  }
 ],
 "metadata": {
  "kernelspec": {
   "display_name": "Python 3 (ipykernel)",
   "language": "python",
   "name": "python3"
  },
  "language_info": {
   "codemirror_mode": {
    "name": "ipython",
    "version": 3
   },
   "file_extension": ".py",
   "mimetype": "text/x-python",
   "name": "python",
   "nbconvert_exporter": "python",
   "pygments_lexer": "ipython3",
   "version": "3.9.13"
  }
 },
 "nbformat": 4,
 "nbformat_minor": 5
}
